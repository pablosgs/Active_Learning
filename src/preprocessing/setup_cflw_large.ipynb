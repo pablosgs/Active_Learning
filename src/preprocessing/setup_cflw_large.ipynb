{
 "cells": [
  {
   "cell_type": "code",
   "execution_count": 1,
   "metadata": {},
   "outputs": [],
   "source": [
    "import pandas as pd\n",
    "\n",
    "from src.preprocessing.text_preprocessing import TextPreprocessor\n",
    "df = pd.read_csv('/home/pablo/active-learning-pablo/data/datasets/cflw_large2_with_trees.csv', on_bad_lines='warn')\n",
    "#df = pd.read_csv('/home/pablo/active-learning-pablo/cflw_large_with_trees.csv', on_bad_lines='warn')"
   ]
  },
  {
   "cell_type": "code",
   "execution_count": 2,
   "metadata": {},
   "outputs": [
    {
     "data": {
      "text/html": [
       "<div>\n",
       "<style scoped>\n",
       "    .dataframe tbody tr th:only-of-type {\n",
       "        vertical-align: middle;\n",
       "    }\n",
       "\n",
       "    .dataframe tbody tr th {\n",
       "        vertical-align: top;\n",
       "    }\n",
       "\n",
       "    .dataframe thead th {\n",
       "        text-align: right;\n",
       "    }\n",
       "</style>\n",
       "<table border=\"1\" class=\"dataframe\">\n",
       "  <thead>\n",
       "    <tr style=\"text-align: right;\">\n",
       "      <th></th>\n",
       "      <th>page_created_at</th>\n",
       "      <th>host_id</th>\n",
       "      <th>page_id</th>\n",
       "      <th>page_version_id</th>\n",
       "      <th>RelatedTagsArray</th>\n",
       "      <th>Cybercrime</th>\n",
       "      <th>Drugs / Narcotics</th>\n",
       "      <th>Financial Crime</th>\n",
       "      <th>Goods and Services</th>\n",
       "      <th>Sexual Abuse</th>\n",
       "      <th>Violent Crime</th>\n",
       "      <th>html</th>\n",
       "      <th>tree</th>\n",
       "    </tr>\n",
       "  </thead>\n",
       "  <tbody>\n",
       "    <tr>\n",
       "      <th>0</th>\n",
       "      <td>2018-11-26 12:56:36</td>\n",
       "      <td>59895</td>\n",
       "      <td>40.0</td>\n",
       "      <td>26837.0</td>\n",
       "      <td>['Bitcoin (BTC)', 'English', 'Financial Crime'...</td>\n",
       "      <td>0.0</td>\n",
       "      <td>0.0</td>\n",
       "      <td>1.0</td>\n",
       "      <td>0.0</td>\n",
       "      <td>0.0</td>\n",
       "      <td>0.0</td>\n",
       "      <td>\\n\\n\\n100x Your Coins in 24 Hours - Officially...</td>\n",
       "      <td>{html {head meta meta meta meta title link li...</td>\n",
       "    </tr>\n",
       "    <tr>\n",
       "      <th>1</th>\n",
       "      <td>2018-11-27 00:02:10</td>\n",
       "      <td>59906</td>\n",
       "      <td>44.0</td>\n",
       "      <td>46435.0</td>\n",
       "      <td>['English', 'Financial Crime', 'Gambling', 'Ma...</td>\n",
       "      <td>0.0</td>\n",
       "      <td>0.0</td>\n",
       "      <td>1.0</td>\n",
       "      <td>0.0</td>\n",
       "      <td>0.0</td>\n",
       "      <td>0.0</td>\n",
       "      <td>\\n\\nHACK-HELP\\n\\n\\n\\n\\n\\n\\n\\n\\n\\n\\n\\n\\n\\n\\n\\nM...</td>\n",
       "      <td>{html {head title link link meta meta link li...</td>\n",
       "    </tr>\n",
       "    <tr>\n",
       "      <th>2</th>\n",
       "      <td>2018-03-27 02:31:35</td>\n",
       "      <td>59930</td>\n",
       "      <td>48.0</td>\n",
       "      <td>22406700.0</td>\n",
       "      <td>['Community', 'Cybercrime', 'Forum', 'Gerki Ma...</td>\n",
       "      <td>1.0</td>\n",
       "      <td>0.0</td>\n",
       "      <td>0.0</td>\n",
       "      <td>0.0</td>\n",
       "      <td>0.0</td>\n",
       "      <td>0.0</td>\n",
       "      <td>\\n\\n\\n\\n\\n\\n\\n\\n\\n\\nGerki - ÃÂ¥ÃÂ°ÃÂºÃÂµÃ...</td>\n",
       "      <td>{html {head style meta meta meta base script ...</td>\n",
       "    </tr>\n",
       "    <tr>\n",
       "      <th>3</th>\n",
       "      <td>2018-11-26 11:36:05</td>\n",
       "      <td>60064</td>\n",
       "      <td>86.0</td>\n",
       "      <td>17558.0</td>\n",
       "      <td>['Cannabis', 'Community', 'Drugs / Narcotics',...</td>\n",
       "      <td>0.0</td>\n",
       "      <td>1.0</td>\n",
       "      <td>0.0</td>\n",
       "      <td>0.0</td>\n",
       "      <td>0.0</td>\n",
       "      <td>0.0</td>\n",
       "      <td>\\n\\n\\n\\nCGMC\\n\\n\\n\\n\\n\\n\\n\\n \\n\\n\\n\\n\\n\\n\\n\\n\\...</td>\n",
       "      <td>{html {head meta title link link style} {body...</td>\n",
       "    </tr>\n",
       "    <tr>\n",
       "      <th>4</th>\n",
       "      <td>2018-11-26 11:44:01</td>\n",
       "      <td>60073</td>\n",
       "      <td>88.0</td>\n",
       "      <td>18512.0</td>\n",
       "      <td>['Carding', 'Credit Cards', 'English', 'Financ...</td>\n",
       "      <td>0.0</td>\n",
       "      <td>0.0</td>\n",
       "      <td>1.0</td>\n",
       "      <td>0.0</td>\n",
       "      <td>0.0</td>\n",
       "      <td>0.0</td>\n",
       "      <td>\\n0day  1337day Agreement - 0day  1337day Inj3...</td>\n",
       "      <td>{html {head meta title meta meta link link li...</td>\n",
       "    </tr>\n",
       "  </tbody>\n",
       "</table>\n",
       "</div>"
      ],
      "text/plain": [
       "       page_created_at  host_id  page_id  page_version_id  \\\n",
       "0  2018-11-26 12:56:36    59895     40.0          26837.0   \n",
       "1  2018-11-27 00:02:10    59906     44.0          46435.0   \n",
       "2  2018-03-27 02:31:35    59930     48.0       22406700.0   \n",
       "3  2018-11-26 11:36:05    60064     86.0          17558.0   \n",
       "4  2018-11-26 11:44:01    60073     88.0          18512.0   \n",
       "\n",
       "                                    RelatedTagsArray  Cybercrime  \\\n",
       "0  ['Bitcoin (BTC)', 'English', 'Financial Crime'...         0.0   \n",
       "1  ['English', 'Financial Crime', 'Gambling', 'Ma...         0.0   \n",
       "2  ['Community', 'Cybercrime', 'Forum', 'Gerki Ma...         1.0   \n",
       "3  ['Cannabis', 'Community', 'Drugs / Narcotics',...         0.0   \n",
       "4  ['Carding', 'Credit Cards', 'English', 'Financ...         0.0   \n",
       "\n",
       "   Drugs / Narcotics  Financial Crime  Goods and Services  Sexual Abuse  \\\n",
       "0                0.0              1.0                 0.0           0.0   \n",
       "1                0.0              1.0                 0.0           0.0   \n",
       "2                0.0              0.0                 0.0           0.0   \n",
       "3                1.0              0.0                 0.0           0.0   \n",
       "4                0.0              1.0                 0.0           0.0   \n",
       "\n",
       "   Violent Crime                                               html  \\\n",
       "0            0.0  \\n\\n\\n100x Your Coins in 24 Hours - Officially...   \n",
       "1            0.0  \\n\\nHACK-HELP\\n\\n\\n\\n\\n\\n\\n\\n\\n\\n\\n\\n\\n\\n\\n\\nM...   \n",
       "2            0.0  \\n\\n\\n\\n\\n\\n\\n\\n\\n\\nGerki - ÃÂ¥ÃÂ°ÃÂºÃÂµÃ...   \n",
       "3            0.0  \\n\\n\\n\\nCGMC\\n\\n\\n\\n\\n\\n\\n\\n \\n\\n\\n\\n\\n\\n\\n\\n\\...   \n",
       "4            0.0  \\n0day  1337day Agreement - 0day  1337day Inj3...   \n",
       "\n",
       "                                                tree  \n",
       "0   {html {head meta meta meta meta title link li...  \n",
       "1   {html {head title link link meta meta link li...  \n",
       "2   {html {head style meta meta meta base script ...  \n",
       "3   {html {head meta title link link style} {body...  \n",
       "4   {html {head meta title meta meta link link li...  "
      ]
     },
     "execution_count": 2,
     "metadata": {},
     "output_type": "execute_result"
    }
   ],
   "source": [
    "df.head()"
   ]
  },
  {
   "cell_type": "code",
   "execution_count": 3,
   "metadata": {},
   "outputs": [
    {
     "data": {
      "text/plain": [
       "array(['page_created_at', 'host_id', 'page_id', 'page_version_id',\n",
       "       'RelatedTagsArray', 'Cybercrime', 'Drugs / Narcotics',\n",
       "       'Financial Crime', 'Goods and Services', 'Sexual Abuse',\n",
       "       'Violent Crime', 'html', 'tree'], dtype=object)"
      ]
     },
     "execution_count": 3,
     "metadata": {},
     "output_type": "execute_result"
    }
   ],
   "source": [
    "df.columns.values"
   ]
  },
  {
   "cell_type": "code",
   "execution_count": 6,
   "metadata": {},
   "outputs": [
    {
     "name": "stdout",
     "output_type": "stream",
     "text": [
      "\n",
      "\n",
      "\n",
      "\n",
      "\n",
      "\n",
      "\n",
      "Mobile Store - Best unlocked cell phones - Buy apple and samsung phones with Bitcoin\n",
      "\n",
      "\n",
      "\n",
      "\n",
      "    \n",
      "\n",
      "Login\n",
      "Register\n",
      "FAQs\n",
      "About us\n",
      "Products\n",
      "\n",
      "\n",
      "Iphone 7iPhone 7\n",
      "Original box with all cables etc, new and UNLOCKED\n",
      "Select USA or EU depending on which region you are from.\n",
      "\n",
      "\n",
      "\n",
      "ProductPriceQuantity\n",
      "\n",
      "\n",
      "\n",
      "\n",
      "Iphone 7 128gb Jet Black USA350 USD = 0.085 ฿\n",
      "\n",
      "\n",
      "\n",
      " X \n",
      "\n",
      "\n",
      "Iphone 7 256gb Gold USA380 USD = 0.092 ฿\n",
      "\n",
      "\n",
      "\n",
      " X \n",
      "\n",
      "\n",
      "Iphone 7 128gb Jet Black EU350 USD = 0.085 ฿\n",
      "\n",
      "\n",
      "\n",
      " X \n",
      "\n",
      "\n",
      "Iphone 7 256gb Gold EU380 USD = 0.092 ฿\n",
      "\n",
      "\n",
      "\n",
      " X \n",
      "\n",
      "\n",
      "\n",
      "Samsung Galaxy S8ï»¿Samsung Galaxy S8 new and original box with all cables etc, UNLOCKED\n",
      "Select USA or EU depending on which region you are from.\n",
      "\n",
      "\n",
      "ProductPriceQuantity\n",
      "\n",
      "\n",
      "\n",
      "\n",
      "Samsung Galaxy S8 Black USA290 USD = 0.070 ฿\n",
      "\n",
      "\n",
      "\n",
      " X \n",
      "\n",
      "\n",
      "Samsung Galaxy S8 Plus Black USA335 USD = 0.081 ฿\n",
      "\n",
      "\n",
      "\n",
      " X \n",
      "\n",
      "\n",
      "Samsung Galaxy S8 Black EU290 USD = 0.070 ฿\n",
      "\n",
      "\n",
      "\n",
      " X \n",
      "\n",
      "\n",
      "Samsung Galaxy S8 Plus Black EU335 USD = 0.081 ฿\n",
      "\n",
      "\n",
      "\n",
      " X \n",
      "\n",
      "\n",
      "\n",
      "\n",
      "\n",
      "Mobile Store\n",
      "\n",
      "\n",
      "\n",
      "\n"
     ]
    }
   ],
   "source": [
    "from __future__ import division, unicode_literals \n",
    "import codecs\n",
    "import bs4\n",
    "\n",
    "f=codecs.open(\"/home/pablo/active-learning-pablo/data/datasets/script_data_v2/html/48_1972_4885.html\", 'r', 'utf-8')\n",
    "document= bs4.BeautifulSoup(f.read()).get_text()\n",
    "print(document)"
   ]
  },
  {
   "cell_type": "code",
   "execution_count": 7,
   "metadata": {},
   "outputs": [
    {
     "data": {
      "text/plain": [
       "0    [Bitcoin (BTC), English, Financial Crime, Gamb...\n",
       "1    [English, Financial Crime, Gambling, Match Fix...\n",
       "2    [Community, Cybercrime, Forum, Gerki Market, H...\n",
       "3    [Cannabis, Community, Drugs / Narcotics, Engli...\n",
       "4    [Carding, Credit Cards, English, Financial Cri...\n",
       "5    [Bitcoin (BTC), English, Financial Crime, Gamb...\n",
       "6    [Bulletproof Hosting Provider, Cybercrime, Eng...\n",
       "7    [Counterfeit, Documents, English, Fake ID, Goo...\n",
       "8    [Bulletproof Hosting Provider, Cybercrime, Eng...\n",
       "9    [Carding, Credit Cards, English, Financial Cri...\n",
       "Name: RelatedTagsArray, dtype: object"
      ]
     },
     "execution_count": 7,
     "metadata": {},
     "output_type": "execute_result"
    }
   ],
   "source": [
    "df['RelatedTagsArray'] = df['RelatedTagsArray'].str.split(',')\n",
    "df['RelatedTagsArray'][:10]"
   ]
  },
  {
   "cell_type": "code",
   "execution_count": 8,
   "metadata": {},
   "outputs": [
    {
     "data": {
      "text/plain": [
       "['Bitcoin (BTC)',\n",
       " 'English',\n",
       " 'Financial Crime',\n",
       " 'Gambling',\n",
       " 'Maltese',\n",
       " 'Money Laundering',\n",
       " 'Ponzi Scheme',\n",
       " 'Service Provider']"
      ]
     },
     "execution_count": 8,
     "metadata": {},
     "output_type": "execute_result"
    }
   ],
   "source": [
    "df['RelatedTagsArray'][0] #.index('English')\n"
   ]
  },
  {
   "cell_type": "code",
   "execution_count": 9,
   "metadata": {},
   "outputs": [],
   "source": [
    "abuse_labels = [\n",
    "        'Cybercrime',\n",
    "       'Drugs / Narcotics', 'Financial Crime', 'Goods and Services',\n",
    "       'Sexual Abuse', 'Violent Crime']\n",
    "\"\"\"\"\n",
    "labels = [[0,0,0,0,0,0]]\n",
    "original = [[0,0,0,0,0,0]]\n",
    "for i in range(len(df['TagArray'])-1):\n",
    "    labels = labels + original\n",
    "print(len(labels))\n",
    "\"\"\"\n",
    "for i in abuse_labels:\n",
    "    df[i] = 0"
   ]
  },
  {
   "cell_type": "code",
   "execution_count": 10,
   "metadata": {},
   "outputs": [
    {
     "data": {
      "text/html": [
       "<div>\n",
       "<style scoped>\n",
       "    .dataframe tbody tr th:only-of-type {\n",
       "        vertical-align: middle;\n",
       "    }\n",
       "\n",
       "    .dataframe tbody tr th {\n",
       "        vertical-align: top;\n",
       "    }\n",
       "\n",
       "    .dataframe thead th {\n",
       "        text-align: right;\n",
       "    }\n",
       "</style>\n",
       "<table border=\"1\" class=\"dataframe\">\n",
       "  <thead>\n",
       "    <tr style=\"text-align: right;\">\n",
       "      <th></th>\n",
       "      <th>host_id</th>\n",
       "      <th>page_id</th>\n",
       "      <th>page_version_id</th>\n",
       "      <th>RelatedTagsArray</th>\n",
       "      <th>Cybercrime</th>\n",
       "      <th>Drugs / Narcotics</th>\n",
       "      <th>Financial Crime</th>\n",
       "      <th>Goods and Services</th>\n",
       "      <th>Sexual Abuse</th>\n",
       "      <th>Violent Crime</th>\n",
       "    </tr>\n",
       "  </thead>\n",
       "  <tbody>\n",
       "    <tr>\n",
       "      <th>0</th>\n",
       "      <td>59895</td>\n",
       "      <td>40</td>\n",
       "      <td>26837</td>\n",
       "      <td>[Bitcoin (BTC), English, Financial Crime, Gamb...</td>\n",
       "      <td>0</td>\n",
       "      <td>0</td>\n",
       "      <td>0</td>\n",
       "      <td>0</td>\n",
       "      <td>0</td>\n",
       "      <td>0</td>\n",
       "    </tr>\n",
       "    <tr>\n",
       "      <th>1</th>\n",
       "      <td>59906</td>\n",
       "      <td>44</td>\n",
       "      <td>46435</td>\n",
       "      <td>[English, Financial Crime, Gambling, Match Fix...</td>\n",
       "      <td>0</td>\n",
       "      <td>0</td>\n",
       "      <td>0</td>\n",
       "      <td>0</td>\n",
       "      <td>0</td>\n",
       "      <td>0</td>\n",
       "    </tr>\n",
       "    <tr>\n",
       "      <th>2</th>\n",
       "      <td>59930</td>\n",
       "      <td>48</td>\n",
       "      <td>22406700</td>\n",
       "      <td>[Community, Cybercrime, Forum, Gerki Market, H...</td>\n",
       "      <td>0</td>\n",
       "      <td>0</td>\n",
       "      <td>0</td>\n",
       "      <td>0</td>\n",
       "      <td>0</td>\n",
       "      <td>0</td>\n",
       "    </tr>\n",
       "    <tr>\n",
       "      <th>3</th>\n",
       "      <td>60064</td>\n",
       "      <td>86</td>\n",
       "      <td>17558</td>\n",
       "      <td>[Cannabis, Community, Drugs / Narcotics, Engli...</td>\n",
       "      <td>0</td>\n",
       "      <td>0</td>\n",
       "      <td>0</td>\n",
       "      <td>0</td>\n",
       "      <td>0</td>\n",
       "      <td>0</td>\n",
       "    </tr>\n",
       "    <tr>\n",
       "      <th>4</th>\n",
       "      <td>60073</td>\n",
       "      <td>88</td>\n",
       "      <td>18512</td>\n",
       "      <td>[Carding, Credit Cards, English, Financial Cri...</td>\n",
       "      <td>0</td>\n",
       "      <td>0</td>\n",
       "      <td>0</td>\n",
       "      <td>0</td>\n",
       "      <td>0</td>\n",
       "      <td>0</td>\n",
       "    </tr>\n",
       "  </tbody>\n",
       "</table>\n",
       "</div>"
      ],
      "text/plain": [
       "   host_id  page_id  page_version_id  \\\n",
       "0    59895       40            26837   \n",
       "1    59906       44            46435   \n",
       "2    59930       48         22406700   \n",
       "3    60064       86            17558   \n",
       "4    60073       88            18512   \n",
       "\n",
       "                                    RelatedTagsArray  Cybercrime  \\\n",
       "0  [Bitcoin (BTC), English, Financial Crime, Gamb...           0   \n",
       "1  [English, Financial Crime, Gambling, Match Fix...           0   \n",
       "2  [Community, Cybercrime, Forum, Gerki Market, H...           0   \n",
       "3  [Cannabis, Community, Drugs / Narcotics, Engli...           0   \n",
       "4  [Carding, Credit Cards, English, Financial Cri...           0   \n",
       "\n",
       "   Drugs / Narcotics  Financial Crime  Goods and Services  Sexual Abuse  \\\n",
       "0                  0                0                   0             0   \n",
       "1                  0                0                   0             0   \n",
       "2                  0                0                   0             0   \n",
       "3                  0                0                   0             0   \n",
       "4                  0                0                   0             0   \n",
       "\n",
       "   Violent Crime  \n",
       "0              0  \n",
       "1              0  \n",
       "2              0  \n",
       "3              0  \n",
       "4              0  "
      ]
     },
     "execution_count": 10,
     "metadata": {},
     "output_type": "execute_result"
    }
   ],
   "source": [
    "df_copy = df.filter(['host_id', 'page_id', 'page_version_id','RelatedTagsArray', 'Cybercrime',\n",
    "       'Drugs / Narcotics', 'Financial Crime', 'Goods and Services',\n",
    "       'Sexual Abuse', 'Violent Crime'], axis=1)\n",
    "df_copy.head()"
   ]
  },
  {
   "cell_type": "code",
   "execution_count": 11,
   "metadata": {},
   "outputs": [
    {
     "name": "stderr",
     "output_type": "stream",
     "text": [
      "/tmp/ipykernel_1472194/2574799822.py:4: SettingWithCopyWarning: \n",
      "A value is trying to be set on a copy of a slice from a DataFrame\n",
      "\n",
      "See the caveats in the documentation: https://pandas.pydata.org/pandas-docs/stable/user_guide/indexing.html#returning-a-view-versus-a-copy\n",
      "  df_copy[label][i] = 1\n"
     ]
    },
    {
     "ename": "KeyboardInterrupt",
     "evalue": "",
     "output_type": "error",
     "traceback": [
      "\u001b[0;31m---------------------------------------------------------------------------\u001b[0m",
      "\u001b[0;31mKeyboardInterrupt\u001b[0m                         Traceback (most recent call last)",
      "Cell \u001b[0;32mIn[11], line 4\u001b[0m\n\u001b[1;32m      2\u001b[0m     \u001b[39mfor\u001b[39;00m label \u001b[39min\u001b[39;00m abuse_labels:\n\u001b[1;32m      3\u001b[0m         \u001b[39mif\u001b[39;00m label \u001b[39min\u001b[39;00m df_copy[\u001b[39m'\u001b[39m\u001b[39mRelatedTagsArray\u001b[39m\u001b[39m'\u001b[39m][i]:\n\u001b[0;32m----> 4\u001b[0m             df_copy[label][i] \u001b[39m=\u001b[39m \u001b[39m1\u001b[39m\n\u001b[1;32m      5\u001b[0m df_copy\n",
      "File \u001b[0;32m~/active-learning-pablo/.venv/lib/python3.8/site-packages/pandas/core/series.py:1095\u001b[0m, in \u001b[0;36mSeries.__setitem__\u001b[0;34m(self, key, value)\u001b[0m\n\u001b[1;32m   1093\u001b[0m check_deprecated_indexers(key)\n\u001b[1;32m   1094\u001b[0m key \u001b[39m=\u001b[39m com\u001b[39m.\u001b[39mapply_if_callable(key, \u001b[39mself\u001b[39m)\n\u001b[0;32m-> 1095\u001b[0m cacher_needs_updating \u001b[39m=\u001b[39m \u001b[39mself\u001b[39;49m\u001b[39m.\u001b[39;49m_check_is_chained_assignment_possible()\n\u001b[1;32m   1097\u001b[0m \u001b[39mif\u001b[39;00m key \u001b[39mis\u001b[39;00m \u001b[39mEllipsis\u001b[39m:\n\u001b[1;32m   1098\u001b[0m     key \u001b[39m=\u001b[39m \u001b[39mslice\u001b[39m(\u001b[39mNone\u001b[39;00m)\n",
      "File \u001b[0;32m~/active-learning-pablo/.venv/lib/python3.8/site-packages/pandas/core/series.py:1284\u001b[0m, in \u001b[0;36mSeries._check_is_chained_assignment_possible\u001b[0;34m(self)\u001b[0m\n\u001b[1;32m   1282\u001b[0m \u001b[39mif\u001b[39;00m \u001b[39mself\u001b[39m\u001b[39m.\u001b[39m_is_view \u001b[39mand\u001b[39;00m \u001b[39mself\u001b[39m\u001b[39m.\u001b[39m_is_cached:\n\u001b[1;32m   1283\u001b[0m     ref \u001b[39m=\u001b[39m \u001b[39mself\u001b[39m\u001b[39m.\u001b[39m_get_cacher()\n\u001b[0;32m-> 1284\u001b[0m     \u001b[39mif\u001b[39;00m ref \u001b[39mis\u001b[39;00m \u001b[39mnot\u001b[39;00m \u001b[39mNone\u001b[39;00m \u001b[39mand\u001b[39;00m ref\u001b[39m.\u001b[39;49m_is_mixed_type:\n\u001b[1;32m   1285\u001b[0m         \u001b[39mself\u001b[39m\u001b[39m.\u001b[39m_check_setitem_copy(t\u001b[39m=\u001b[39m\u001b[39m\"\u001b[39m\u001b[39mreferent\u001b[39m\u001b[39m\"\u001b[39m, force\u001b[39m=\u001b[39m\u001b[39mTrue\u001b[39;00m)\n\u001b[1;32m   1286\u001b[0m     \u001b[39mreturn\u001b[39;00m \u001b[39mTrue\u001b[39;00m\n",
      "File \u001b[0;32m~/active-learning-pablo/.venv/lib/python3.8/site-packages/pandas/core/generic.py:6007\u001b[0m, in \u001b[0;36mNDFrame._is_mixed_type\u001b[0;34m(self)\u001b[0m\n\u001b[1;32m   6002\u001b[0m \u001b[39mif\u001b[39;00m \u001b[39mself\u001b[39m\u001b[39m.\u001b[39m_mgr\u001b[39m.\u001b[39many_extension_types:\n\u001b[1;32m   6003\u001b[0m     \u001b[39m# Even if they have the same dtype, we can't consolidate them,\u001b[39;00m\n\u001b[1;32m   6004\u001b[0m     \u001b[39m#  so we pretend this is \"mixed'\"\u001b[39;00m\n\u001b[1;32m   6005\u001b[0m     \u001b[39mreturn\u001b[39;00m \u001b[39mTrue\u001b[39;00m\n\u001b[0;32m-> 6007\u001b[0m \u001b[39mreturn\u001b[39;00m \u001b[39mself\u001b[39;49m\u001b[39m.\u001b[39;49mdtypes\u001b[39m.\u001b[39mnunique() \u001b[39m>\u001b[39m \u001b[39m1\u001b[39m\n",
      "File \u001b[0;32m~/active-learning-pablo/.venv/lib/python3.8/site-packages/pandas/core/generic.py:6074\u001b[0m, in \u001b[0;36mNDFrame.dtypes\u001b[0;34m(self)\u001b[0m\n\u001b[1;32m   6047\u001b[0m \u001b[39m\u001b[39m\u001b[39m\"\"\"\u001b[39;00m\n\u001b[1;32m   6048\u001b[0m \u001b[39mReturn the dtypes in the DataFrame.\u001b[39;00m\n\u001b[1;32m   6049\u001b[0m \n\u001b[0;32m   (...)\u001b[0m\n\u001b[1;32m   6071\u001b[0m \u001b[39mdtype: object\u001b[39;00m\n\u001b[1;32m   6072\u001b[0m \u001b[39m\"\"\"\u001b[39;00m\n\u001b[1;32m   6073\u001b[0m data \u001b[39m=\u001b[39m \u001b[39mself\u001b[39m\u001b[39m.\u001b[39m_mgr\u001b[39m.\u001b[39mget_dtypes()\n\u001b[0;32m-> 6074\u001b[0m \u001b[39mreturn\u001b[39;00m \u001b[39mself\u001b[39m\u001b[39m.\u001b[39m_constructor_sliced(data, index\u001b[39m=\u001b[39m\u001b[39mself\u001b[39;49m\u001b[39m.\u001b[39;49m_info_axis, dtype\u001b[39m=\u001b[39mnp\u001b[39m.\u001b[39mobject_)\n",
      "File \u001b[0;32m~/active-learning-pablo/.venv/lib/python3.8/site-packages/pandas/core/generic.py:642\u001b[0m, in \u001b[0;36mNDFrame._info_axis\u001b[0;34m(self)\u001b[0m\n\u001b[1;32m    640\u001b[0m \u001b[39m@property\u001b[39m\n\u001b[1;32m    641\u001b[0m \u001b[39mdef\u001b[39;00m \u001b[39m_info_axis\u001b[39m(\u001b[39mself\u001b[39m) \u001b[39m-\u001b[39m\u001b[39m>\u001b[39m Index:\n\u001b[0;32m--> 642\u001b[0m     \u001b[39mreturn\u001b[39;00m \u001b[39mgetattr\u001b[39;49m(\u001b[39mself\u001b[39;49m, \u001b[39mself\u001b[39;49m\u001b[39m.\u001b[39;49m_info_axis_name)\n",
      "\u001b[0;31mKeyboardInterrupt\u001b[0m: "
     ]
    }
   ],
   "source": [
    "for i in range(len(df_copy['RelatedTagsArray'])):\n",
    "    for label in abuse_labels:\n",
    "        if label in df_copy['RelatedTagsArray'][i]:\n",
    "            df_copy[label][i] = 1\n",
    "df_copy"
   ]
  },
  {
   "cell_type": "code",
   "execution_count": null,
   "metadata": {},
   "outputs": [],
   "source": [
    "#df_copy.sum()[-6:]"
   ]
  },
  {
   "cell_type": "code",
   "execution_count": null,
   "metadata": {},
   "outputs": [
    {
     "data": {
      "text/html": [
       "<div>\n",
       "<style scoped>\n",
       "    .dataframe tbody tr th:only-of-type {\n",
       "        vertical-align: middle;\n",
       "    }\n",
       "\n",
       "    .dataframe tbody tr th {\n",
       "        vertical-align: top;\n",
       "    }\n",
       "\n",
       "    .dataframe thead th {\n",
       "        text-align: right;\n",
       "    }\n",
       "</style>\n",
       "<table border=\"1\" class=\"dataframe\">\n",
       "  <thead>\n",
       "    <tr style=\"text-align: right;\">\n",
       "      <th></th>\n",
       "      <th>host_id</th>\n",
       "      <th>page_id</th>\n",
       "      <th>page_version_id</th>\n",
       "      <th>RelatedTagsArray</th>\n",
       "      <th>Cybercrime</th>\n",
       "      <th>Drugs / Narcotics</th>\n",
       "      <th>Financial Crime</th>\n",
       "      <th>Goods and Services</th>\n",
       "      <th>Sexual Abuse</th>\n",
       "      <th>Violent Crime</th>\n",
       "      <th>html</th>\n",
       "      <th>tree</th>\n",
       "    </tr>\n",
       "  </thead>\n",
       "  <tbody>\n",
       "    <tr>\n",
       "      <th>0</th>\n",
       "      <td>59895</td>\n",
       "      <td>40</td>\n",
       "      <td>26837</td>\n",
       "      <td>[Bitcoin (BTC), English, Financial Crime, Gamb...</td>\n",
       "      <td>0</td>\n",
       "      <td>0</td>\n",
       "      <td>1</td>\n",
       "      <td>0</td>\n",
       "      <td>0</td>\n",
       "      <td>0</td>\n",
       "      <td>-</td>\n",
       "      <td>-</td>\n",
       "    </tr>\n",
       "    <tr>\n",
       "      <th>1</th>\n",
       "      <td>59906</td>\n",
       "      <td>44</td>\n",
       "      <td>46435</td>\n",
       "      <td>[English, Financial Crime, Gambling, Match Fix...</td>\n",
       "      <td>0</td>\n",
       "      <td>0</td>\n",
       "      <td>1</td>\n",
       "      <td>0</td>\n",
       "      <td>0</td>\n",
       "      <td>0</td>\n",
       "      <td>-</td>\n",
       "      <td>-</td>\n",
       "    </tr>\n",
       "    <tr>\n",
       "      <th>2</th>\n",
       "      <td>59930</td>\n",
       "      <td>48</td>\n",
       "      <td>22406700</td>\n",
       "      <td>[Community, Cybercrime, Forum, Gerki Market, H...</td>\n",
       "      <td>1</td>\n",
       "      <td>0</td>\n",
       "      <td>0</td>\n",
       "      <td>0</td>\n",
       "      <td>0</td>\n",
       "      <td>0</td>\n",
       "      <td>-</td>\n",
       "      <td>-</td>\n",
       "    </tr>\n",
       "    <tr>\n",
       "      <th>3</th>\n",
       "      <td>60064</td>\n",
       "      <td>86</td>\n",
       "      <td>17558</td>\n",
       "      <td>[Cannabis, Community, Drugs / Narcotics, Engli...</td>\n",
       "      <td>0</td>\n",
       "      <td>1</td>\n",
       "      <td>0</td>\n",
       "      <td>0</td>\n",
       "      <td>0</td>\n",
       "      <td>0</td>\n",
       "      <td>-</td>\n",
       "      <td>-</td>\n",
       "    </tr>\n",
       "    <tr>\n",
       "      <th>4</th>\n",
       "      <td>60073</td>\n",
       "      <td>88</td>\n",
       "      <td>18512</td>\n",
       "      <td>[Carding, Credit Cards, English, Financial Cri...</td>\n",
       "      <td>0</td>\n",
       "      <td>0</td>\n",
       "      <td>1</td>\n",
       "      <td>0</td>\n",
       "      <td>0</td>\n",
       "      <td>0</td>\n",
       "      <td>-</td>\n",
       "      <td>-</td>\n",
       "    </tr>\n",
       "  </tbody>\n",
       "</table>\n",
       "</div>"
      ],
      "text/plain": [
       "   host_id  page_id  page_version_id  \\\n",
       "0    59895       40            26837   \n",
       "1    59906       44            46435   \n",
       "2    59930       48         22406700   \n",
       "3    60064       86            17558   \n",
       "4    60073       88            18512   \n",
       "\n",
       "                                    RelatedTagsArray  Cybercrime  \\\n",
       "0  [Bitcoin (BTC), English, Financial Crime, Gamb...           0   \n",
       "1  [English, Financial Crime, Gambling, Match Fix...           0   \n",
       "2  [Community, Cybercrime, Forum, Gerki Market, H...           1   \n",
       "3  [Cannabis, Community, Drugs / Narcotics, Engli...           0   \n",
       "4  [Carding, Credit Cards, English, Financial Cri...           0   \n",
       "\n",
       "   Drugs / Narcotics  Financial Crime  Goods and Services  Sexual Abuse  \\\n",
       "0                  0                1                   0             0   \n",
       "1                  0                1                   0             0   \n",
       "2                  0                0                   0             0   \n",
       "3                  1                0                   0             0   \n",
       "4                  0                1                   0             0   \n",
       "\n",
       "   Violent Crime html tree  \n",
       "0              0    -    -  \n",
       "1              0    -    -  \n",
       "2              0    -    -  \n",
       "3              0    -    -  \n",
       "4              0    -    -  "
      ]
     },
     "execution_count": 11,
     "metadata": {},
     "output_type": "execute_result"
    }
   ],
   "source": [
    "documents = []\n",
    "df_copy['html'] = '-'\n",
    "df_copy['tree'] = '-'\n",
    "df_copy['hash'] = '-'\n",
    "folder_path = '/home/pablo/active-learning-pablo/data/datasets/script_data_v2/html/'\n",
    "df_copy.head()"
   ]
  },
  {
   "cell_type": "code",
   "execution_count": null,
   "metadata": {},
   "outputs": [
    {
     "data": {
      "text/plain": [
       "(151676, 12)"
      ]
     },
     "execution_count": 12,
     "metadata": {},
     "output_type": "execute_result"
    }
   ],
   "source": [
    "df_copy.shape"
   ]
  },
  {
   "cell_type": "code",
   "execution_count": null,
   "metadata": {},
   "outputs": [],
   "source": [
    "df = df_copy.copy(deep = True)"
   ]
  },
  {
   "cell_type": "code",
   "execution_count": null,
   "metadata": {},
   "outputs": [],
   "source": [
    "\n",
    "\n",
    "def bs42element_tree( parent ) :\n",
    "\t\"\"\" Return the structure of an HTML page as a tree with only the element names \"\"\"\n",
    "\tif isinstance( parent, bs4.BeautifulSoup ) :\n",
    "\t\treturn ''.join( bs42element_tree( child ) for child in parent.children )\n",
    "\tif isinstance( parent, bs4.Doctype ) :\n",
    "\t\treturn ''\n",
    "\tif isinstance( parent, bs4.element.Comment ) :\n",
    "\t\treturn ''\n",
    "\tif isinstance( parent, bs4.element.NavigableString ) :\n",
    "\t\treturn ''\n",
    "\tparent_name = parent.name\n",
    "\tchildren = ''.join( bs42element_tree( child ) for child in parent.children )\n",
    "\tif len( children ) == 0 :\n",
    "\t\treturn f' {parent_name}'\n",
    "\treturn ' {' + parent_name + children + '}'\n"
   ]
  },
  {
   "cell_type": "code",
   "execution_count": null,
   "metadata": {},
   "outputs": [
    {
     "name": "stdout",
     "output_type": "stream",
     "text": [
      "Found files:  97538\n",
      "Copied files:  97538\n"
     ]
    }
   ],
   "source": [
    "from os.path import exists\n",
    "import sys\n",
    "import hashlib\n",
    "sys.setrecursionlimit( 10000 )\n",
    "\n",
    "count_found = 0\n",
    "count_copied = 0\n",
    "\n",
    "for i in range(len(df_copy['RelatedTagsArray'])):\n",
    "\n",
    "    file = str(df_copy.loc[i,'host_id']) + '_' + str(df_copy.loc[i,'page_id']) + '_' + str(df_copy.loc[i,'page_version_id']) + '.html'\n",
    "    file_path = folder_path + file\n",
    "    if  exists(file_path):\n",
    "        count_found += 1\n",
    "        #f=codecs.open(file_path, 'r', 'utf-8')\n",
    "        df_copy.loc[i,'html'] = bs4.BeautifulSoup(codecs.open(file_path, 'r', 'utf-8').read()).get_text()\n",
    "        df_copy.loc[i,'tree'] = bs42element_tree(bs4.BeautifulSoup(codecs.open(file_path, 'r', 'utf-8').read()))\n",
    "        df_copy.loc[i,'hash'] = hashlib.md5(codecs.open(file_path, 'r', encoding = 'utf-8').read().encode('utf-8')).hexdigest()\n",
    "        count_copied += 1\n",
    "\n",
    "print('Found files: ', count_found)\n",
    "print('Copied files: ', count_copied)"
   ]
  },
  {
   "cell_type": "code",
   "execution_count": null,
   "metadata": {},
   "outputs": [
    {
     "data": {
      "text/html": [
       "<div>\n",
       "<style scoped>\n",
       "    .dataframe tbody tr th:only-of-type {\n",
       "        vertical-align: middle;\n",
       "    }\n",
       "\n",
       "    .dataframe tbody tr th {\n",
       "        vertical-align: top;\n",
       "    }\n",
       "\n",
       "    .dataframe thead th {\n",
       "        text-align: right;\n",
       "    }\n",
       "</style>\n",
       "<table border=\"1\" class=\"dataframe\">\n",
       "  <thead>\n",
       "    <tr style=\"text-align: right;\">\n",
       "      <th></th>\n",
       "      <th>host_id</th>\n",
       "      <th>page_id</th>\n",
       "      <th>page_version_id</th>\n",
       "      <th>RelatedTagsArray</th>\n",
       "      <th>Cybercrime</th>\n",
       "      <th>Drugs / Narcotics</th>\n",
       "      <th>Financial Crime</th>\n",
       "      <th>Goods and Services</th>\n",
       "      <th>Sexual Abuse</th>\n",
       "      <th>Violent Crime</th>\n",
       "      <th>html</th>\n",
       "      <th>tree</th>\n",
       "    </tr>\n",
       "  </thead>\n",
       "  <tbody>\n",
       "    <tr>\n",
       "      <th>0</th>\n",
       "      <td>59895</td>\n",
       "      <td>40</td>\n",
       "      <td>26837</td>\n",
       "      <td>[Bitcoin (BTC), English, Financial Crime, Gamb...</td>\n",
       "      <td>0</td>\n",
       "      <td>0</td>\n",
       "      <td>1</td>\n",
       "      <td>0</td>\n",
       "      <td>0</td>\n",
       "      <td>0</td>\n",
       "      <td>\\n\\n\\n100x Your Coins in 24 Hours - Officially...</td>\n",
       "      <td>{html {head meta meta meta meta title link li...</td>\n",
       "    </tr>\n",
       "    <tr>\n",
       "      <th>1</th>\n",
       "      <td>59906</td>\n",
       "      <td>44</td>\n",
       "      <td>46435</td>\n",
       "      <td>[English, Financial Crime, Gambling, Match Fix...</td>\n",
       "      <td>0</td>\n",
       "      <td>0</td>\n",
       "      <td>1</td>\n",
       "      <td>0</td>\n",
       "      <td>0</td>\n",
       "      <td>0</td>\n",
       "      <td>\\n\\nHACK-HELP\\n\\n\\n\\n\\n\\n\\n\\n\\n\\n\\n\\n\\n\\n\\n\\nM...</td>\n",
       "      <td>{html {head title link link meta meta link li...</td>\n",
       "    </tr>\n",
       "    <tr>\n",
       "      <th>2</th>\n",
       "      <td>59930</td>\n",
       "      <td>48</td>\n",
       "      <td>22406700</td>\n",
       "      <td>[Community, Cybercrime, Forum, Gerki Market, H...</td>\n",
       "      <td>1</td>\n",
       "      <td>0</td>\n",
       "      <td>0</td>\n",
       "      <td>0</td>\n",
       "      <td>0</td>\n",
       "      <td>0</td>\n",
       "      <td>\\n\\n\\n\\n\\n\\n\\n\\n\\n\\nGerki - ÃÂ¥ÃÂ°ÃÂºÃÂµÃ...</td>\n",
       "      <td>{html {head style meta meta meta base script ...</td>\n",
       "    </tr>\n",
       "    <tr>\n",
       "      <th>3</th>\n",
       "      <td>60064</td>\n",
       "      <td>86</td>\n",
       "      <td>17558</td>\n",
       "      <td>[Cannabis, Community, Drugs / Narcotics, Engli...</td>\n",
       "      <td>0</td>\n",
       "      <td>1</td>\n",
       "      <td>0</td>\n",
       "      <td>0</td>\n",
       "      <td>0</td>\n",
       "      <td>0</td>\n",
       "      <td>\\n\\n\\n\\nCGMC\\n\\n\\n\\n\\n\\n\\n\\n \\n\\n\\n\\n\\n\\n\\n\\n\\...</td>\n",
       "      <td>{html {head meta title link link style} {body...</td>\n",
       "    </tr>\n",
       "    <tr>\n",
       "      <th>4</th>\n",
       "      <td>60073</td>\n",
       "      <td>88</td>\n",
       "      <td>18512</td>\n",
       "      <td>[Carding, Credit Cards, English, Financial Cri...</td>\n",
       "      <td>0</td>\n",
       "      <td>0</td>\n",
       "      <td>1</td>\n",
       "      <td>0</td>\n",
       "      <td>0</td>\n",
       "      <td>0</td>\n",
       "      <td>\\n0day  1337day Agreement - 0day  1337day Inj3...</td>\n",
       "      <td>{html {head meta title meta meta link link li...</td>\n",
       "    </tr>\n",
       "  </tbody>\n",
       "</table>\n",
       "</div>"
      ],
      "text/plain": [
       "   host_id  page_id  page_version_id  \\\n",
       "0    59895       40            26837   \n",
       "1    59906       44            46435   \n",
       "2    59930       48         22406700   \n",
       "3    60064       86            17558   \n",
       "4    60073       88            18512   \n",
       "\n",
       "                                    RelatedTagsArray  Cybercrime  \\\n",
       "0  [Bitcoin (BTC), English, Financial Crime, Gamb...           0   \n",
       "1  [English, Financial Crime, Gambling, Match Fix...           0   \n",
       "2  [Community, Cybercrime, Forum, Gerki Market, H...           1   \n",
       "3  [Cannabis, Community, Drugs / Narcotics, Engli...           0   \n",
       "4  [Carding, Credit Cards, English, Financial Cri...           0   \n",
       "\n",
       "   Drugs / Narcotics  Financial Crime  Goods and Services  Sexual Abuse  \\\n",
       "0                  0                1                   0             0   \n",
       "1                  0                1                   0             0   \n",
       "2                  0                0                   0             0   \n",
       "3                  1                0                   0             0   \n",
       "4                  0                1                   0             0   \n",
       "\n",
       "   Violent Crime                                               html  \\\n",
       "0              0  \\n\\n\\n100x Your Coins in 24 Hours - Officially...   \n",
       "1              0  \\n\\nHACK-HELP\\n\\n\\n\\n\\n\\n\\n\\n\\n\\n\\n\\n\\n\\n\\n\\nM...   \n",
       "2              0  \\n\\n\\n\\n\\n\\n\\n\\n\\n\\nGerki - ÃÂ¥ÃÂ°ÃÂºÃÂµÃ...   \n",
       "3              0  \\n\\n\\n\\nCGMC\\n\\n\\n\\n\\n\\n\\n\\n \\n\\n\\n\\n\\n\\n\\n\\n\\...   \n",
       "4              0  \\n0day  1337day Agreement - 0day  1337day Inj3...   \n",
       "\n",
       "                                                tree  \n",
       "0   {html {head meta meta meta meta title link li...  \n",
       "1   {html {head title link link meta meta link li...  \n",
       "2   {html {head style meta meta meta base script ...  \n",
       "3   {html {head meta title link link style} {body...  \n",
       "4   {html {head meta title meta meta link link li...  "
      ]
     },
     "execution_count": 19,
     "metadata": {},
     "output_type": "execute_result"
    }
   ],
   "source": [
    "df_copy.head()"
   ]
  },
  {
   "cell_type": "code",
   "execution_count": null,
   "metadata": {},
   "outputs": [],
   "source": [
    "df_copy.to_csv(r'C:\\Users\\Pablo\\OneDrive\\Desktop\\Pablo\\uni\\tfm\\code\\active-learning-pablo\\data\\datasets\\cflw_large_with_trees.csv', index=False)"
   ]
  },
  {
   "cell_type": "code",
   "execution_count": null,
   "metadata": {},
   "outputs": [
    {
     "name": "stdout",
     "output_type": "stream",
     "text": [
      "shape before dropping:  (151676, 12)\n",
      "shape after removing empty:  (97528, 12)\n",
      "\n",
      "-Number of remainig samples after deduplication of html text (97528, 12)\n",
      "\n",
      "-Number of remainig samples after deduplication of html tree (97528, 12)\n"
     ]
    }
   ],
   "source": [
    "print('shape before dropping: ', df_copy.shape)\n",
    "#df_copy['html'] = html_list\n",
    "df_copy = df_copy.dropna()\n",
    "df_copy = df_copy.drop(df_copy[df_copy[\"html\"].map(len) == 0].index)\n",
    "df_copy = df_copy.drop(df_copy[df_copy[\"html\"] == '-'].index)\n",
    "df_copy = df_copy.drop(df_copy[df_copy[\"tree\"].map(len) == 0].index)\n",
    "df_copy = df_copy.drop(df_copy[df_copy[\"tree\"] == '-'].index)\n",
    "df_copy = df_copy.drop(df_copy[df_copy[\"hash\"].map(len) == 0].index)\n",
    "df_copy = df_copy.drop(df_copy[df_copy[\"hash\"] == '-'].index)\n",
    "print('shape after removing empty: ', df_copy.shape)\n",
    "\n",
    "df_copy = df_copy.drop_duplicates(subset=['html'], keep='first')\n",
    "print(\"\\n-Number of remainig samples after deduplication of html text\", df_copy.shape)\n",
    "\n",
    "df_copy = df_copy.drop_duplicates(subset=['tree'], keep='first')\n",
    "print(\"\\n-Number of remainig samples after deduplication of html tree\", df_copy.shape)\n",
    "\n",
    "df_copy = df_copy.drop_duplicates(subset=['hash'], keep='first')\n",
    "print(\"\\n-Number of remainig samples after deduplication of html hash\", df_copy.shape)\n",
    "#data_path_prepped = fw.get_dataset_checkpoint_path(\"prepped\")\n",
    "#df.to_csv(data_path_prepped, index=False, escapechar=\"\\\\\")"
   ]
  },
  {
   "cell_type": "code",
   "execution_count": 22,
   "metadata": {},
   "outputs": [
    {
     "data": {
      "text/html": [
       "<div>\n",
       "<style scoped>\n",
       "    .dataframe tbody tr th:only-of-type {\n",
       "        vertical-align: middle;\n",
       "    }\n",
       "\n",
       "    .dataframe tbody tr th {\n",
       "        vertical-align: top;\n",
       "    }\n",
       "\n",
       "    .dataframe thead th {\n",
       "        text-align: right;\n",
       "    }\n",
       "</style>\n",
       "<table border=\"1\" class=\"dataframe\">\n",
       "  <thead>\n",
       "    <tr style=\"text-align: right;\">\n",
       "      <th></th>\n",
       "      <th>host_id</th>\n",
       "      <th>page_id</th>\n",
       "      <th>page_version_id</th>\n",
       "      <th>RelatedTagsArray</th>\n",
       "      <th>Cybercrime</th>\n",
       "      <th>Drugs / Narcotics</th>\n",
       "      <th>Financial Crime</th>\n",
       "      <th>Goods and Services</th>\n",
       "      <th>Sexual Abuse</th>\n",
       "      <th>Violent Crime</th>\n",
       "      <th>html</th>\n",
       "      <th>tree</th>\n",
       "    </tr>\n",
       "  </thead>\n",
       "  <tbody>\n",
       "    <tr>\n",
       "      <th>0</th>\n",
       "      <td>59895</td>\n",
       "      <td>40</td>\n",
       "      <td>26837</td>\n",
       "      <td>[Bitcoin (BTC), English, Financial Crime, Gamb...</td>\n",
       "      <td>0</td>\n",
       "      <td>0</td>\n",
       "      <td>1</td>\n",
       "      <td>0</td>\n",
       "      <td>0</td>\n",
       "      <td>0</td>\n",
       "      <td>\\n\\n\\n100x Your Coins in 24 Hours - Officially...</td>\n",
       "      <td>{html {head meta meta meta meta title link li...</td>\n",
       "    </tr>\n",
       "    <tr>\n",
       "      <th>1</th>\n",
       "      <td>59906</td>\n",
       "      <td>44</td>\n",
       "      <td>46435</td>\n",
       "      <td>[English, Financial Crime, Gambling, Match Fix...</td>\n",
       "      <td>0</td>\n",
       "      <td>0</td>\n",
       "      <td>1</td>\n",
       "      <td>0</td>\n",
       "      <td>0</td>\n",
       "      <td>0</td>\n",
       "      <td>\\n\\nHACK-HELP\\n\\n\\n\\n\\n\\n\\n\\n\\n\\n\\n\\n\\n\\n\\n\\nM...</td>\n",
       "      <td>{html {head title link link meta meta link li...</td>\n",
       "    </tr>\n",
       "    <tr>\n",
       "      <th>2</th>\n",
       "      <td>59930</td>\n",
       "      <td>48</td>\n",
       "      <td>22406700</td>\n",
       "      <td>[Community, Cybercrime, Forum, Gerki Market, H...</td>\n",
       "      <td>1</td>\n",
       "      <td>0</td>\n",
       "      <td>0</td>\n",
       "      <td>0</td>\n",
       "      <td>0</td>\n",
       "      <td>0</td>\n",
       "      <td>\\n\\n\\n\\n\\n\\n\\n\\n\\n\\nGerki - ÃÂ¥ÃÂ°ÃÂºÃÂµÃ...</td>\n",
       "      <td>{html {head style meta meta meta base script ...</td>\n",
       "    </tr>\n",
       "    <tr>\n",
       "      <th>3</th>\n",
       "      <td>60064</td>\n",
       "      <td>86</td>\n",
       "      <td>17558</td>\n",
       "      <td>[Cannabis, Community, Drugs / Narcotics, Engli...</td>\n",
       "      <td>0</td>\n",
       "      <td>1</td>\n",
       "      <td>0</td>\n",
       "      <td>0</td>\n",
       "      <td>0</td>\n",
       "      <td>0</td>\n",
       "      <td>\\n\\n\\n\\nCGMC\\n\\n\\n\\n\\n\\n\\n\\n \\n\\n\\n\\n\\n\\n\\n\\n\\...</td>\n",
       "      <td>{html {head meta title link link style} {body...</td>\n",
       "    </tr>\n",
       "    <tr>\n",
       "      <th>4</th>\n",
       "      <td>60073</td>\n",
       "      <td>88</td>\n",
       "      <td>18512</td>\n",
       "      <td>[Carding, Credit Cards, English, Financial Cri...</td>\n",
       "      <td>0</td>\n",
       "      <td>0</td>\n",
       "      <td>1</td>\n",
       "      <td>0</td>\n",
       "      <td>0</td>\n",
       "      <td>0</td>\n",
       "      <td>\\n0day  1337day Agreement - 0day  1337day Inj3...</td>\n",
       "      <td>{html {head meta title meta meta link link li...</td>\n",
       "    </tr>\n",
       "  </tbody>\n",
       "</table>\n",
       "</div>"
      ],
      "text/plain": [
       "   host_id  page_id  page_version_id  \\\n",
       "0    59895       40            26837   \n",
       "1    59906       44            46435   \n",
       "2    59930       48         22406700   \n",
       "3    60064       86            17558   \n",
       "4    60073       88            18512   \n",
       "\n",
       "                                    RelatedTagsArray  Cybercrime  \\\n",
       "0  [Bitcoin (BTC), English, Financial Crime, Gamb...           0   \n",
       "1  [English, Financial Crime, Gambling, Match Fix...           0   \n",
       "2  [Community, Cybercrime, Forum, Gerki Market, H...           1   \n",
       "3  [Cannabis, Community, Drugs / Narcotics, Engli...           0   \n",
       "4  [Carding, Credit Cards, English, Financial Cri...           0   \n",
       "\n",
       "   Drugs / Narcotics  Financial Crime  Goods and Services  Sexual Abuse  \\\n",
       "0                  0                1                   0             0   \n",
       "1                  0                1                   0             0   \n",
       "2                  0                0                   0             0   \n",
       "3                  1                0                   0             0   \n",
       "4                  0                1                   0             0   \n",
       "\n",
       "   Violent Crime                                               html  \\\n",
       "0              0  \\n\\n\\n100x Your Coins in 24 Hours - Officially...   \n",
       "1              0  \\n\\nHACK-HELP\\n\\n\\n\\n\\n\\n\\n\\n\\n\\n\\n\\n\\n\\n\\n\\nM...   \n",
       "2              0  \\n\\n\\n\\n\\n\\n\\n\\n\\n\\nGerki - ÃÂ¥ÃÂ°ÃÂºÃÂµÃ...   \n",
       "3              0  \\n\\n\\n\\nCGMC\\n\\n\\n\\n\\n\\n\\n\\n \\n\\n\\n\\n\\n\\n\\n\\n\\...   \n",
       "4              0  \\n0day  1337day Agreement - 0day  1337day Inj3...   \n",
       "\n",
       "                                                tree  \n",
       "0   {html {head meta meta meta meta title link li...  \n",
       "1   {html {head title link link meta meta link li...  \n",
       "2   {html {head style meta meta meta base script ...  \n",
       "3   {html {head meta title link link style} {body...  \n",
       "4   {html {head meta title meta meta link link li...  "
      ]
     },
     "execution_count": 22,
     "metadata": {},
     "output_type": "execute_result"
    }
   ],
   "source": [
    "df_copy.head()\n",
    "df_copy.to_csv(r'C:\\Users\\Pablo\\OneDrive\\Desktop\\Pablo\\uni\\tfm\\code\\active-learning-pablo\\data\\datasets\\cflw_large_with_trees.csv', index=False)\n"
   ]
  },
  {
   "cell_type": "code",
   "execution_count": 12,
   "metadata": {},
   "outputs": [],
   "source": [
    "import pandas as pd\n",
    "\n",
    "df = pd.read_csv('/home/pablo/active-learning-pablo/data/datasets/cflw_large2_with_trees.csv', on_bad_lines='warn')\n",
    "#df.sum()[-8:-2]"
   ]
  },
  {
   "cell_type": "code",
   "execution_count": 7,
   "metadata": {},
   "outputs": [
    {
     "data": {
      "text/plain": [
       "405.0"
      ]
     },
     "execution_count": 7,
     "metadata": {},
     "output_type": "execute_result"
    }
   ],
   "source": [
    "#df['Violent Crime'].sum()"
   ]
  },
  {
   "cell_type": "code",
   "execution_count": 13,
   "metadata": {},
   "outputs": [
    {
     "data": {
      "text/plain": [
       "array(['page_created_at', 'host_id', 'page_id', 'page_version_id',\n",
       "       'RelatedTagsArray', 'Cybercrime', 'Drugs / Narcotics',\n",
       "       'Financial Crime', 'Goods and Services', 'Sexual Abuse',\n",
       "       'Violent Crime', 'html', 'tree'], dtype=object)"
      ]
     },
     "execution_count": 13,
     "metadata": {},
     "output_type": "execute_result"
    }
   ],
   "source": [
    "df.columns.values"
   ]
  },
  {
   "cell_type": "code",
   "execution_count": 14,
   "metadata": {},
   "outputs": [],
   "source": [
    "import os\n",
    "import pandas as pd\n",
    "import numpy as np\n",
    "import sys\n",
    "sys.path.append(\"../\") # go to parent dir\n",
    "\n",
    "\n",
    "from src.preprocessing.text_extraction import TextExtraction\n",
    "from src.preprocessing.text_preprocessing import TextPreprocessor\n",
    "from src.vectorization.vectorization_sbert import TextVectorization\n",
    "from src.classification.helpers import split_train_val_test\n",
    "\n",
    "\n",
    "import copy\n",
    "\n",
    "import numpy as np\n"
   ]
  },
  {
   "cell_type": "code",
   "execution_count": 15,
   "metadata": {},
   "outputs": [],
   "source": [
    "df = df.drop(['page_created_at','host_id', 'page_id', 'page_version_id',\n",
    "       'RelatedTagsArray', 'tree'], axis = 1)"
   ]
  },
  {
   "cell_type": "code",
   "execution_count": 17,
   "metadata": {},
   "outputs": [
    {
     "data": {
      "text/html": [
       "<div>\n",
       "<style scoped>\n",
       "    .dataframe tbody tr th:only-of-type {\n",
       "        vertical-align: middle;\n",
       "    }\n",
       "\n",
       "    .dataframe tbody tr th {\n",
       "        vertical-align: top;\n",
       "    }\n",
       "\n",
       "    .dataframe thead th {\n",
       "        text-align: right;\n",
       "    }\n",
       "</style>\n",
       "<table border=\"1\" class=\"dataframe\">\n",
       "  <thead>\n",
       "    <tr style=\"text-align: right;\">\n",
       "      <th></th>\n",
       "      <th>Cybercrime</th>\n",
       "      <th>Drugs / Narcotics</th>\n",
       "      <th>Financial Crime</th>\n",
       "      <th>Goods and Services</th>\n",
       "      <th>Sexual Abuse</th>\n",
       "      <th>Violent Crime</th>\n",
       "      <th>html</th>\n",
       "    </tr>\n",
       "  </thead>\n",
       "  <tbody>\n",
       "    <tr>\n",
       "      <th>0</th>\n",
       "      <td>0.0</td>\n",
       "      <td>0.0</td>\n",
       "      <td>1.0</td>\n",
       "      <td>0.0</td>\n",
       "      <td>0.0</td>\n",
       "      <td>0.0</td>\n",
       "      <td>\\n\\n\\n100x Your Coins in 24 Hours - Officially...</td>\n",
       "    </tr>\n",
       "    <tr>\n",
       "      <th>1</th>\n",
       "      <td>0.0</td>\n",
       "      <td>0.0</td>\n",
       "      <td>1.0</td>\n",
       "      <td>0.0</td>\n",
       "      <td>0.0</td>\n",
       "      <td>0.0</td>\n",
       "      <td>\\n\\nHACK-HELP\\n\\n\\n\\n\\n\\n\\n\\n\\n\\n\\n\\n\\n\\n\\n\\nM...</td>\n",
       "    </tr>\n",
       "    <tr>\n",
       "      <th>2</th>\n",
       "      <td>1.0</td>\n",
       "      <td>0.0</td>\n",
       "      <td>0.0</td>\n",
       "      <td>0.0</td>\n",
       "      <td>0.0</td>\n",
       "      <td>0.0</td>\n",
       "      <td>\\n\\n\\n\\n\\n\\n\\n\\n\\n\\nGerki - ÃÂ¥ÃÂ°ÃÂºÃÂµÃ...</td>\n",
       "    </tr>\n",
       "    <tr>\n",
       "      <th>3</th>\n",
       "      <td>0.0</td>\n",
       "      <td>1.0</td>\n",
       "      <td>0.0</td>\n",
       "      <td>0.0</td>\n",
       "      <td>0.0</td>\n",
       "      <td>0.0</td>\n",
       "      <td>\\n\\n\\n\\nCGMC\\n\\n\\n\\n\\n\\n\\n\\n \\n\\n\\n\\n\\n\\n\\n\\n\\...</td>\n",
       "    </tr>\n",
       "    <tr>\n",
       "      <th>4</th>\n",
       "      <td>0.0</td>\n",
       "      <td>0.0</td>\n",
       "      <td>1.0</td>\n",
       "      <td>0.0</td>\n",
       "      <td>0.0</td>\n",
       "      <td>0.0</td>\n",
       "      <td>\\n0day  1337day Agreement - 0day  1337day Inj3...</td>\n",
       "    </tr>\n",
       "  </tbody>\n",
       "</table>\n",
       "</div>"
      ],
      "text/plain": [
       "   Cybercrime  Drugs / Narcotics  Financial Crime  Goods and Services  \\\n",
       "0         0.0                0.0              1.0                 0.0   \n",
       "1         0.0                0.0              1.0                 0.0   \n",
       "2         1.0                0.0              0.0                 0.0   \n",
       "3         0.0                1.0              0.0                 0.0   \n",
       "4         0.0                0.0              1.0                 0.0   \n",
       "\n",
       "   Sexual Abuse  Violent Crime  \\\n",
       "0           0.0            0.0   \n",
       "1           0.0            0.0   \n",
       "2           0.0            0.0   \n",
       "3           0.0            0.0   \n",
       "4           0.0            0.0   \n",
       "\n",
       "                                                html  \n",
       "0  \\n\\n\\n100x Your Coins in 24 Hours - Officially...  \n",
       "1  \\n\\nHACK-HELP\\n\\n\\n\\n\\n\\n\\n\\n\\n\\n\\n\\n\\n\\n\\n\\nM...  \n",
       "2  \\n\\n\\n\\n\\n\\n\\n\\n\\n\\nGerki - ÃÂ¥ÃÂ°ÃÂºÃÂµÃ...  \n",
       "3  \\n\\n\\n\\nCGMC\\n\\n\\n\\n\\n\\n\\n\\n \\n\\n\\n\\n\\n\\n\\n\\n\\...  \n",
       "4  \\n0day  1337day Agreement - 0day  1337day Inj3...  "
      ]
     },
     "execution_count": 17,
     "metadata": {},
     "output_type": "execute_result"
    }
   ],
   "source": [
    "df.head()"
   ]
  },
  {
   "cell_type": "code",
   "execution_count": 18,
   "metadata": {},
   "outputs": [
    {
     "data": {
      "text/html": [
       "<div>\n",
       "<style scoped>\n",
       "    .dataframe tbody tr th:only-of-type {\n",
       "        vertical-align: middle;\n",
       "    }\n",
       "\n",
       "    .dataframe tbody tr th {\n",
       "        vertical-align: top;\n",
       "    }\n",
       "\n",
       "    .dataframe thead th {\n",
       "        text-align: right;\n",
       "    }\n",
       "</style>\n",
       "<table border=\"1\" class=\"dataframe\">\n",
       "  <thead>\n",
       "    <tr style=\"text-align: right;\">\n",
       "      <th></th>\n",
       "      <th>Cybercrime</th>\n",
       "      <th>Drugs / Narcotics</th>\n",
       "      <th>Financial Crime</th>\n",
       "      <th>Goods and Services</th>\n",
       "      <th>Sexual Abuse</th>\n",
       "      <th>Violent Crime</th>\n",
       "      <th>html</th>\n",
       "    </tr>\n",
       "  </thead>\n",
       "  <tbody>\n",
       "    <tr>\n",
       "      <th>0</th>\n",
       "      <td>0.0</td>\n",
       "      <td>0.0</td>\n",
       "      <td>1.0</td>\n",
       "      <td>0.0</td>\n",
       "      <td>0.0</td>\n",
       "      <td>0.0</td>\n",
       "      <td>your coins in hours officially hidden service ...</td>\n",
       "    </tr>\n",
       "    <tr>\n",
       "      <th>1</th>\n",
       "      <td>0.0</td>\n",
       "      <td>0.0</td>\n",
       "      <td>1.0</td>\n",
       "      <td>0.0</td>\n",
       "      <td>0.0</td>\n",
       "      <td>0.0</td>\n",
       "      <td>hack help menu homecontact who i am i am a ind...</td>\n",
       "    </tr>\n",
       "    <tr>\n",
       "      <th>2</th>\n",
       "      <td>1.0</td>\n",
       "      <td>0.0</td>\n",
       "      <td>0.0</td>\n",
       "      <td>0.0</td>\n",
       "      <td>0.0</td>\n",
       "      <td>0.0</td>\n",
       "      <td>gerki gerki.pw free update daily nerubisplecha...</td>\n",
       "    </tr>\n",
       "    <tr>\n",
       "      <th>3</th>\n",
       "      <td>0.0</td>\n",
       "      <td>1.0</td>\n",
       "      <td>0.0</td>\n",
       "      <td>0.0</td>\n",
       "      <td>0.0</td>\n",
       "      <td>0.0</td>\n",
       "      <td>cgmc log in register log in registerregister n...</td>\n",
       "    </tr>\n",
       "    <tr>\n",
       "      <th>4</th>\n",
       "      <td>0.0</td>\n",
       "      <td>0.0</td>\n",
       "      <td>1.0</td>\n",
       "      <td>0.0</td>\n",
       "      <td>0.0</td>\n",
       "      <td>0.0</td>\n",
       "      <td>agreement team . english general informationof...</td>\n",
       "    </tr>\n",
       "  </tbody>\n",
       "</table>\n",
       "</div>"
      ],
      "text/plain": [
       "   Cybercrime  Drugs / Narcotics  Financial Crime  Goods and Services  \\\n",
       "0         0.0                0.0              1.0                 0.0   \n",
       "1         0.0                0.0              1.0                 0.0   \n",
       "2         1.0                0.0              0.0                 0.0   \n",
       "3         0.0                1.0              0.0                 0.0   \n",
       "4         0.0                0.0              1.0                 0.0   \n",
       "\n",
       "   Sexual Abuse  Violent Crime  \\\n",
       "0           0.0            0.0   \n",
       "1           0.0            0.0   \n",
       "2           0.0            0.0   \n",
       "3           0.0            0.0   \n",
       "4           0.0            0.0   \n",
       "\n",
       "                                                html  \n",
       "0  your coins in hours officially hidden service ...  \n",
       "1  hack help menu homecontact who i am i am a ind...  \n",
       "2  gerki gerki.pw free update daily nerubisplecha...  \n",
       "3  cgmc log in register log in registerregister n...  \n",
       "4  agreement team . english general informationof...  "
      ]
     },
     "execution_count": 18,
     "metadata": {},
     "output_type": "execute_result"
    }
   ],
   "source": [
    "import re\n",
    "df['html'] = df['html'].map(lambda x: re.sub(r\"https?://\\S+|www\\.\\S+\",\"\",x) )\n",
    "df['html'] = df['html'].map(lambda x: re.sub(\"[\"\n",
    "                                                                                   u\"\\U0001F600-\\U0001F64F\"\n",
    "                                                                                   u\"\\U0001F300-\\U0001F5FF\"  \n",
    "                                                                                   u\"\\U0001F680-\\U0001F6FF\" \n",
    "                                                                                   u\"\\U0001F1E0-\\U0001F1FF\"  \n",
    "                                                                                   u\"\\U00002702-\\U000027B0\"\n",
    "                                                                                   u\"\\U000024C2-\\U0001F251\"\n",
    "                                                                                   \"]+\",\"\", x, flags=re.UNICODE))\n",
    "df['html'] = df['html'].map(lambda x: re.sub(r\"\\d{1,3}\\.\\d{1,3}\\.\\d{1,3}\\.\\d{1,3}\",\"\",x))\n",
    "df['html'] = df['html'].map(lambda x: re.sub(r\"<.*?>\",\"\",x))\n",
    "df['html'] = df['html'].map(lambda x: re.sub(r\"\\\"\\\"\", \"\\\"\",x)) \n",
    "df['html'] = df['html'].map(lambda x: re.sub(r\"^\\\"\", \"\",x))  \n",
    "df['html'] = df['html'].map(lambda x: re.sub(r\"\\\"$\", \"\",x))\n",
    "df['html'] = df['html'].map(lambda x: re.sub(r\"[^a-zA-Z0-9\\s][^a-zA-Z0-9\\s]+\", \" \",x))\n",
    "df['html'] = df['html'].map(lambda x: re.sub(r\"[^a-zA-Z0-9\\s\\\"\\',:;?!.()]\", \" \",x))\n",
    "\n",
    "df['html'] = df['html'].map(lambda x: re.sub(r\"\\s\\s+\", \" \",x))\n",
    "\n",
    "text_preprocessor = TextPreprocessor()\n",
    "df['html'] = df['html'].apply(text_preprocessor.preprocess_data)\n",
    "df = df.drop(df[df[\"html\"].map(len) == 0].index)\n",
    "df.head()"
   ]
  },
  {
   "cell_type": "code",
   "execution_count": 19,
   "metadata": {},
   "outputs": [
    {
     "ename": "ValueError",
     "evalue": "all the input array dimensions except for the concatenation axis must match exactly, but along dimension 0, the array at index 0 has size 13388 and the array at index 1 has size 0",
     "output_type": "error",
     "traceback": [
      "\u001b[0;31m---------------------------------------------------------------------------\u001b[0m",
      "\u001b[0;31mValueError\u001b[0m                                Traceback (most recent call last)",
      "Cell \u001b[0;32mIn[19], line 5\u001b[0m\n\u001b[1;32m      2\u001b[0m X \u001b[39m=\u001b[39m text_vectorizer\u001b[39m.\u001b[39mvectorize(df[\u001b[39m\"\u001b[39m\u001b[39mhtml\u001b[39m\u001b[39m\"\u001b[39m]\u001b[39m.\u001b[39mvalues)\n\u001b[1;32m      3\u001b[0m y \u001b[39m=\u001b[39m df\u001b[39m.\u001b[39mloc[:\u001b[39m-\u001b[39m\u001b[39m1\u001b[39m]\u001b[39m.\u001b[39mvalues\n\u001b[0;32m----> 5\u001b[0m df_train \u001b[39m=\u001b[39m pd\u001b[39m.\u001b[39mDataFrame(np\u001b[39m.\u001b[39;49mconcatenate((X, y), axis\u001b[39m=\u001b[39;49m\u001b[39m1\u001b[39;49m))\n\u001b[1;32m      6\u001b[0m df_train\u001b[39m.\u001b[39mto_csv(\u001b[39mr\u001b[39m\u001b[39m'\u001b[39m\u001b[39m/home/pablo/active-learning-pablo/data/datasets/cflw_large2_vec.csv\u001b[39m\u001b[39m'\u001b[39m, index\u001b[39m=\u001b[39m\u001b[39mFalse\u001b[39;00m)\n",
      "File \u001b[0;32m<__array_function__ internals>:200\u001b[0m, in \u001b[0;36mconcatenate\u001b[0;34m(*args, **kwargs)\u001b[0m\n",
      "\u001b[0;31mValueError\u001b[0m: all the input array dimensions except for the concatenation axis must match exactly, but along dimension 0, the array at index 0 has size 13388 and the array at index 1 has size 0"
     ]
    }
   ],
   "source": [
    "text_vectorizer = TextVectorization()\n",
    "X = text_vectorizer.vectorize(df[\"html\"].values)\n",
    "y = df.iloc[:, :-1].values\n",
    "\n",
    "df_train = pd.DataFrame(np.concatenate((X, y), axis=1))\n",
    "df_train.to_csv('/home/pablo/active-learning-pablo/data/datasets/cflw_large2_vec.csv', index=False)"
   ]
  },
  {
   "cell_type": "code",
   "execution_count": 2,
   "metadata": {},
   "outputs": [
    {
     "data": {
      "text/plain": [
       "(97537, 390)"
      ]
     },
     "execution_count": 2,
     "metadata": {},
     "output_type": "execute_result"
    }
   ],
   "source": [
    "import pandas as pd\n",
    "df = pd.read_csv('/home/pablo/active-learning-pablo/data/datasets/script_data_v2_vec.csv')\n",
    "df.shape"
   ]
  },
  {
   "cell_type": "code",
   "execution_count": 17,
   "metadata": {},
   "outputs": [
    {
     "data": {
      "text/plain": [
       "(97537, 6)"
      ]
     },
     "execution_count": 17,
     "metadata": {},
     "output_type": "execute_result"
    }
   ],
   "source": [
    "y = df[df.columns.values[:-1]].values\n",
    "y.shape"
   ]
  },
  {
   "cell_type": "code",
   "execution_count": 18,
   "metadata": {},
   "outputs": [],
   "source": [
    "df_train = pd.DataFrame(np.concatenate((X, y), axis=1))\n",
    "df_train.to_csv(r'/home/pablo/active-learning-pablo/data/datasets/script_data_v2_vec.csv', index=False)"
   ]
  },
  {
   "cell_type": "code",
   "execution_count": 11,
   "metadata": {},
   "outputs": [
    {
     "data": {
      "text/plain": [
       "(97537, 6)"
      ]
     },
     "execution_count": 11,
     "metadata": {},
     "output_type": "execute_result"
    }
   ],
   "source": [
    "abuse_labels = [\n",
    "        'Cybercrime',\n",
    "       'Drugs / Narcotics', 'Financial Crime', 'Goods and Services',\n",
    "       'Sexual Abuse', 'Violent Crime']\n",
    "y = df.loc[:, abuse_labels].values\n",
    "y.shape"
   ]
  },
  {
   "cell_type": "code",
   "execution_count": 15,
   "metadata": {},
   "outputs": [],
   "source": [
    "df_train = pd.DataFrame(np.concatenate((X, y), axis=1))\n",
    "df_train.to_csv(r'/home/pablo/active-learning-pablo/data/datasets/script_data_v2_vec.csv', index=False)"
   ]
  },
  {
   "cell_type": "code",
   "execution_count": 6,
   "metadata": {},
   "outputs": [
    {
     "data": {
      "image/png": "[encoded data removed]",
      "text/plain": [
       "<Figure size 1600x800 with 3 Axes>"
      ]
     },
     "metadata": {},
     "output_type": "display_data"
    }
   ],
   "source": [
    "import os\n",
    "import numpy as np\n",
    "import pandas as pd\n",
    "import matplotlib.pyplot as plt   \n",
    "from src.classification.helpers import split_train_val_test\n",
    "\n",
    "labels = [\n",
    "        'Cybercrime',\n",
    "       'Drugs / Narcotics', 'Financial Crime', 'Goods and Services',\n",
    "       'Sexual Abuse', 'Violent Crime']\n",
    "df = pd.read_csv('/home/pablo/active-learning-pablo/data/datasets/cflw_final.csv')\n",
    "financial_df = df[df['386'] == 1]\n",
    "non_financial_df = df[df['386'] == 0]\n",
    "#df = pd.concat([non_financial_df,financial_df.sample(10_000)])\n",
    "y = df.iloc[:, -len(labels) :].values\n",
    "X = df.iloc[:, : -len(labels)].values\n",
    "\n",
    "X_train, X_val, X_test, y_train, y_val, y_test = split_train_val_test(\n",
    "        X, y, train_frac=0.7, val_frac=0.01, test_frac=0.29\n",
    "    )\n",
    "\n",
    "\n",
    "sum_labels_train = y_train.sum(axis = 0)\n",
    "sum_labels_test = y_test.sum(axis = 0)\n",
    "sum_labels_val = y_val.sum(axis = 0)\n",
    "\n",
    "fig, (ax1, ax2, ax3) = plt.subplots(1, 3, figsize=(16, 8))\n",
    " \n",
    "# creating the bar plot\n",
    "ax1.bar(labels, sum_labels_val, color = 'b')\n",
    "ax1.set(xlabel=\"Label\", ylabel=\"Number of samples\")\n",
    "ax1.set_title(\"Initial data\", fontsize=18)\n",
    "plt.setp(ax1.get_xticklabels(), rotation=30, horizontalalignment='right')\n",
    "\n",
    "ax2.bar(labels, sum_labels_train, color = 'g')\n",
    "ax2.set(xlabel=\"Label\", ylabel=\"Number of samples\")\n",
    "ax2.set_title(\"Unlabeled data\",fontsize=18)\n",
    "plt.setp(ax2.get_xticklabels(), rotation=30, horizontalalignment='right')\n",
    "\n",
    "ax3.bar(labels, sum_labels_test, color = 'r')\n",
    "ax3.set(xlabel=\"Label\", ylabel=\"Number of samples\")\n",
    "ax3.set_title(\"Test data\",fontsize=18)\n",
    "plt.setp(ax3.get_xticklabels(), rotation=30, horizontalalignment='right')\n",
    "\n",
    "fig.savefig('/home/pablo/active-learning-pablo/data/datasets/statistics/labels.png')"
   ]
  },
  {
   "cell_type": "code",
   "execution_count": 12,
   "metadata": {},
   "outputs": [
    {
     "data": {
      "text/plain": [
       "3280.0"
      ]
     },
     "execution_count": 12,
     "metadata": {},
     "output_type": "execute_result"
    }
   ],
   "source": [
    "sum_labels_test.sum()"
   ]
  },
  {
   "cell_type": "code",
   "execution_count": 1,
   "metadata": {},
   "outputs": [
    {
     "ename": "SyntaxError",
     "evalue": "(unicode error) 'unicodeescape' codec can't decode bytes in position 2-3: truncated \\UXXXXXXXX escape (3774146167.py, line 12)",
     "output_type": "error",
     "traceback": [
      "\u001b[1;36m  File \u001b[1;32m\"C:\\Users\\Pablo\\AppData\\Local\\Temp\\ipykernel_2928\\3774146167.py\"\u001b[1;36m, line \u001b[1;32m12\u001b[0m\n\u001b[1;33m    df = pd.read_csv('C:\\Users\\Pablo\\OneDrive\\Desktop\\Pablo\\uni\\tfm\\code\\active-learning-pablo\\data\\datasets\\cflw_final.csv')\u001b[0m\n\u001b[1;37m                                                                                                                            ^\u001b[0m\n\u001b[1;31mSyntaxError\u001b[0m\u001b[1;31m:\u001b[0m (unicode error) 'unicodeescape' codec can't decode bytes in position 2-3: truncated \\UXXXXXXXX escape\n"
     ]
    }
   ],
   "source": [
    "import os\n",
    "import numpy as np\n",
    "import pandas as pd\n",
    "import matplotlib.pyplot as plt  \n",
    "\n",
    "\n",
    "labels = [\n",
    "        'Cybercrime',\n",
    "       'Drugs / Narcotics', 'Financial Crime', 'Goods and Services',\n",
    "       'Sexual Abuse', 'Violent Crime']\n",
    "\n",
    "df = pd.read_csv('C:\\Users\\Pablo\\OneDrive\\Desktop\\Pablo\\uni\\tfm\\code\\active-learning-pablo\\data\\datasets\\cflw_final.csv')\n",
    "X = df.iloc[:, : -len(labels)].values\n",
    "y = df.iloc[:, -len(labels) :].values"
   ]
  },
  {
   "cell_type": "code",
   "execution_count": null,
   "metadata": {},
   "outputs": [],
   "source": [
    "number_train = y.sum(axis = 1)\n",
    "unique_train, counts_train = np.unique(number_train, return_counts=True)"
   ]
  },
  {
   "cell_type": "code",
   "execution_count": 2,
   "metadata": {},
   "outputs": [
    {
     "data": {
      "image/png": "[encoded data removed]",
      "text/plain": [
       "<Figure size 1600x800 with 3 Axes>"
      ]
     },
     "metadata": {},
     "output_type": "display_data"
    }
   ],
   "source": [
    "number_train = y_train.sum(axis = 1)\n",
    "unique_train, counts_train = np.unique(number_train, return_counts=True)\n",
    "number_test = y_test.sum(axis = 1)\n",
    "unique_test, counts_test = np.unique(number_test, return_counts=True)\n",
    "number_val = y_val.sum(axis = 1)\n",
    "unique_val, counts_val = np.unique(number_val, return_counts=True)\n",
    "\n",
    "fig, (ax1, ax2, ax3) = plt.subplots(1, 3, figsize=(16, 8))\n",
    " \n",
    "# creating the bar plot\n",
    "ax1.bar(unique_val, counts_val, color = 'b')\n",
    "ax1.set(xlabel=\"Number of labels\", ylabel=\"Number of samples\")\n",
    "ax1.set_title(\"Labeled data\",fontsize=18)\n",
    "plt.setp(ax1.get_xticklabels(), rotation=0, horizontalalignment='right')\n",
    "\n",
    "ax2.bar(unique_train, counts_train, color = 'g')\n",
    "ax2.set(xlabel=\"Number of labels\", ylabel=\"Number of samples\")\n",
    "ax2.set_title(\"Unlabeled data\",fontsize=18)\n",
    "plt.setp(ax2.get_xticklabels(), rotation=0, horizontalalignment='right')\n",
    "\n",
    "ax3.bar(unique_test, counts_test, color = 'r')\n",
    "ax3.set(xlabel=\"Number of labels\", ylabel=\"Number of samples\")\n",
    "ax3.set_title(\"Test data\",fontsize=18)\n",
    "plt.setp(ax3.get_xticklabels(), rotation=0, horizontalalignment='right')\n",
    "\n",
    "fig.suptitle(\"Frequency of labels\")\n",
    "fig.savefig('/home/pablo/active-learning-pablo/data/datasets/statistics/label_counts.png')\n"
   ]
  },
  {
   "cell_type": "code",
   "execution_count": 2,
   "metadata": {},
   "outputs": [
    {
     "data": {
      "image/png": "[encoded data removed]",
      "text/plain": [
       "<Figure size 640x480 with 1 Axes>"
      ]
     },
     "metadata": {},
     "output_type": "display_data"
    }
   ],
   "source": [
    "import os\n",
    "import numpy as np\n",
    "import pandas as pd\n",
    "import matplotlib.pyplot as plt   \n",
    "from src.classification.helpers import split_train_val_test\n",
    "\n",
    "labels = [\n",
    "        'Cybercrime',\n",
    "       'Drugs / Narcotics', 'Financial Crime', 'Goods and Services',\n",
    "       'Sexual Abuse', 'Violent Crime']\n",
    "\n",
    "labels = ['English', 'Financial Crime', 'Shop', 'Carding', 'Paypal',\n",
    "       'Credit Cards', 'CRL 4. Structured', 'Western Union',\n",
    "       'Bitcoin (BTC)', 'Money Laundering', 'Crypto-asset',\n",
    "       'Service Provider', 'Money Transfers', 'CRL 5. Integrated',\n",
    "       'Gambling', 'Ponzi Scheme', 'Hacked Accounts', 'Gift Cards',\n",
    "       'Drugs / Narcotics', 'Explorer', 'Goods and Services',\n",
    "       'Counterfeit', 'Market', 'Cloned Cards', 'MoneyGram', 'Cash',\n",
    "       'Admin_Login_Panel', 'Admin_Credentials', 'Cybercrime',\n",
    "       'Prepaid Cards']\n",
    "\n",
    "nr = [3438, 7749, 82808, 7492, 1884, 1160]\n",
    "\n",
    "nr = [254123, 212016, 182415, 146275, 114570, 111405,  66104,  53929,\n",
    "        50838,  47331,  47295,  46347,  36445,  31635,  28885,  27829,\n",
    "        27221,  26879,  25608,  24974,  24229,  17193,  15653,  14921,\n",
    "        13287,  12696,  11454,  11250,   9757,   9283]\n",
    "fig = plt.figure()\n",
    "\n",
    "ax = fig.add_axes([0,0,2,1])\n",
    "\n",
    "ax.bar(labels,nr)\n",
    "ax.set(xlabel=\"Label\", ylabel=\"Number of samples\")\n",
    "\n",
    "plt.setp(ax.get_xticklabels(), rotation=30, horizontalalignment='right')\n",
    "plt.show()\n"
   ]
  },
  {
   "cell_type": "code",
   "execution_count": 19,
   "metadata": {},
   "outputs": [
    {
     "data": {
      "text/plain": [
       "array(['Unnamed: 0', 'host_id', 'page_id', 'page_version_id',\n",
       "       'RelatedTagsArray', 'Cybercrime', 'Drugs / Narcotics',\n",
       "       'Financial Crime', 'Goods and Services', 'Sexual Abuse',\n",
       "       'Violent Crime', 'html'], dtype=object)"
      ]
     },
     "execution_count": 19,
     "metadata": {},
     "output_type": "execute_result"
    }
   ],
   "source": [
    "import os\n",
    "import numpy as np\n",
    "import pandas as pd\n",
    "import matplotlib.pyplot as plt   \n",
    "from src.classification.helpers import split_train_val_test\n",
    "\n",
    "df = pd.read_csv('/home/pablo/active-learning-pablo/data/datasets/script_data_v2.csv')\n",
    "df.columns.values"
   ]
  },
  {
   "cell_type": "code",
   "execution_count": 24,
   "metadata": {},
   "outputs": [
    {
     "data": {
      "text/plain": [
       "array([1, 3, 1, ..., 1, 1, 1])"
      ]
     },
     "execution_count": 24,
     "metadata": {},
     "output_type": "execute_result"
    }
   ],
   "source": [
    "df['html']\n",
    "mylen = np.vectorize(len)\n",
    "\n",
    "unique, counts = np.unique(mylen(df['html']), return_counts=True)\n",
    "\n",
    "unique_counts = pd.DataFrame()\n"
   ]
  },
  {
   "cell_type": "code",
   "execution_count": 17,
   "metadata": {},
   "outputs": [
    {
     "data": {
      "text/plain": [
       "(array([0.5, 1.5, 2.5, 3.5, 4.5, 5.5]),\n",
       " [Text(0.5, 0, 'Cybercrime'),\n",
       "  Text(1.5, 0, 'Drugs / Narcotics'),\n",
       "  Text(2.5, 0, 'Financial Crime'),\n",
       "  Text(3.5, 0, 'Goods and Services'),\n",
       "  Text(4.5, 0, 'Sexual Abuse'),\n",
       "  Text(5.5, 0, 'Violent Crime')])"
      ]
     },
     "execution_count": 17,
     "metadata": {},
     "output_type": "execute_result"
    },
    {
     "data": {
      "image/png": "[encoded data removed]",
      "text/plain": [
       "<Figure size 640x480 with 2 Axes>"
      ]
     },
     "metadata": {},
     "output_type": "display_data"
    }
   ],
   "source": [
    "import seaborn as sb\n",
    "\n",
    "sb.heatmap(np.corrcoef(y_train.T), cmap=\"Blues\", annot=True,xticklabels=labels,\n",
    "        yticklabels=labels)\n",
    "plt.xticks(rotation=45)"
   ]
  }
 ],
 "metadata": {
  "kernelspec": {
   "display_name": ".venv",
   "language": "python",
   "name": "python3"
  },
  "language_info": {
   "codemirror_mode": {
    "name": "ipython",
    "version": 3
   },
   "file_extension": ".py",
   "mimetype": "text/x-python",
   "name": "python",
   "nbconvert_exporter": "python",
   "pygments_lexer": "ipython3",
   "version": "3.9.15"
  },
  "orig_nbformat": 4,
  "vscode": {
   "interpreter": {
    "hash": "f5f397afc8a152cce624ac42527cbc5d487aa4ec7a27c7135c6faffa96ae4441"
   }
  }
 },
 "nbformat": 4,
 "nbformat_minor": 2
}
